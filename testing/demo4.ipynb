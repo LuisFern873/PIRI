{
  "cells": [
    {
      "cell_type": "code",
      "execution_count": 1,
      "metadata": {
        "colab": {
          "base_uri": "https://localhost:8080/"
        },
        "id": "5QLk6UGvlPoE",
        "outputId": "87ae6cb0-1fd7-41fe-b102-8f298b639c7b"
      },
      "outputs": [
        {
          "name": "stdout",
          "output_type": "stream",
          "text": [
            "Requirement already satisfied: openai in /usr/local/lib/python3.11/dist-packages (1.61.1)\n",
            "Requirement already satisfied: anyio<5,>=3.5.0 in /usr/local/lib/python3.11/dist-packages (from openai) (3.7.1)\n",
            "Requirement already satisfied: distro<2,>=1.7.0 in /usr/local/lib/python3.11/dist-packages (from openai) (1.9.0)\n",
            "Requirement already satisfied: httpx<1,>=0.23.0 in /usr/local/lib/python3.11/dist-packages (from openai) (0.28.1)\n",
            "Requirement already satisfied: jiter<1,>=0.4.0 in /usr/local/lib/python3.11/dist-packages (from openai) (0.8.2)\n",
            "Requirement already satisfied: pydantic<3,>=1.9.0 in /usr/local/lib/python3.11/dist-packages (from openai) (2.10.6)\n",
            "Requirement already satisfied: sniffio in /usr/local/lib/python3.11/dist-packages (from openai) (1.3.1)\n",
            "Requirement already satisfied: tqdm>4 in /usr/local/lib/python3.11/dist-packages (from openai) (4.67.1)\n",
            "Requirement already satisfied: typing-extensions<5,>=4.11 in /usr/local/lib/python3.11/dist-packages (from openai) (4.12.2)\n",
            "Requirement already satisfied: idna>=2.8 in /usr/local/lib/python3.11/dist-packages (from anyio<5,>=3.5.0->openai) (3.10)\n",
            "Requirement already satisfied: certifi in /usr/local/lib/python3.11/dist-packages (from httpx<1,>=0.23.0->openai) (2025.1.31)\n",
            "Requirement already satisfied: httpcore==1.* in /usr/local/lib/python3.11/dist-packages (from httpx<1,>=0.23.0->openai) (1.0.7)\n",
            "Requirement already satisfied: h11<0.15,>=0.13 in /usr/local/lib/python3.11/dist-packages (from httpcore==1.*->httpx<1,>=0.23.0->openai) (0.14.0)\n",
            "Requirement already satisfied: annotated-types>=0.6.0 in /usr/local/lib/python3.11/dist-packages (from pydantic<3,>=1.9.0->openai) (0.7.0)\n",
            "Requirement already satisfied: pydantic-core==2.27.2 in /usr/local/lib/python3.11/dist-packages (from pydantic<3,>=1.9.0->openai) (2.27.2)\n"
          ]
        }
      ],
      "source": [
        "!pip install openai"
      ]
    },
    {
      "cell_type": "code",
      "execution_count": null,
      "metadata": {
        "colab": {
          "base_uri": "https://localhost:8080/"
        },
        "id": "-94nx8c-lmou",
        "outputId": "f381d32a-1b55-4fce-e5c7-366b76c6cf39"
      },
      "outputs": [
        {
          "name": "stdout",
          "output_type": "stream",
          "text": [
            "Choice(finish_reason='stop', index=0, logprobs=None, message=ChatCompletionMessage(content='**Análisis de Resultados Médicos:**\\n\\nLos resultados de la hemato\\xadlogía presentan algunos valores que se encuentran fuera de los rangos de referencia:\\n\\n1. **Hematocrito (50.9%)**: Este valor está ligeramente por encima del rango normal (36.0% - 49.2%).\\n   \\n   **Recomendación**: Es recomendable mantener una adecuada hidratación y evitar el consumo excesivo de alimentos salados.\\n\\n2. **Linfocitos (55%)**: Este valor está por encima del rango normal (21.0% - 50.0%).\\n   \\n   **Recomendación**: Podría ser útil consultar a un médico para evaluar posibles infecciones o condiciones subyacentes.\\n\\nTodos los demás valores están dentro de los límites normales.\\n\\n---\\n\\n**Shipibo-Konibo:**\\n\\n**Waku Noa Ikarin:**\\n\\nHematologiake ašodi noka soba, peino ka:\\n\\n1. **Hematocrito (50.9%)**: Ino ya kene kene ri ni tei (36.0% - 49.2%).\\n   \\n   **Nokira**: Hiki juwa mu fuka, meja bora i śoroti jakin.\\n\\n2. **Linfocitos (55%)**: Ino ya kene kene ri ni tei (21.0% - 50.0%).\\n   \\n   **Nokira**: Ika uini sujti mu yuki zueniko oja asiri yo diti keicha.\\n\\nArawa no kene no ja wi ju jake.', refusal=None, role='assistant', audio=None, function_call=None, tool_calls=None))\n"
          ]
        }
      ],
      "source": [
        "import os\n",
        "import base64\n",
        "from openai import OpenAI\n",
        "\n",
        "client = OpenAI(\n",
        "    api_key=os.getenv(\"OPENAI_API_KEY\")\n",
        ")\n",
        "\n",
        "# Function to encode the image\n",
        "def encode_image(image_path):\n",
        "    with open(image_path, \"rb\") as image_file:\n",
        "        return base64.b64encode(image_file.read()).decode(\"utf-8\")\n",
        "\n",
        "\n",
        "# Path to your image\n",
        "image_path = \"/content/probe2.jpeg\"\n",
        "\n",
        "# Getting the Base64 string\n",
        "base64_image = encode_image(image_path)\n",
        "\n",
        "try:\n",
        "  response = client.chat.completions.create(\n",
        "        model=\"gpt-4o-mini\",\n",
        "        messages=[\n",
        "            {\n",
        "                \"role\": \"user\",\n",
        "                \"content\": [\n",
        "                    {\n",
        "                        \"type\": \"text\",\n",
        "                        \"text\": (\n",
        "                            \"Analiza los resultados médicos en la imagen y \"\n",
        "                            \"brinda una respuesta clara y sencilla:\\n\"\n",
        "                            \"- Si los resultados son normales, confirma que están bien.\\n\"\n",
        "                            \"- Si hay valores anómalos, da una recomendación básica.\\n\"\n",
        "                            \"- La respuesta debe darse en ESPAÑOL y también en SHIPIBO-KONIBO.\\n\"\n",
        "                            \"Ejemplo de recomendación: 'Tu nivel de glucosa está alto, es recomendable reducir el consumo de azúcar y hacer ejercicio.'\"\n",
        "                        ),\n",
        "                    },\n",
        "                    {\n",
        "                        \"type\": \"image_url\",\n",
        "                        \"image_url\": {\"url\": f\"data:image/jpeg;base64,{base64_image}\"},\n",
        "                    },\n",
        "                ],\n",
        "            }\n",
        "        ],\n",
        "    )\n",
        "  print(response.choices[0])\n",
        "except FileNotFoundError:\n",
        "    print(\"Error: La imagen no se encontró en la ruta especificada.\")\n",
        "except Exception as e:\n",
        "    print(f\"Error: {e}\")"
      ]
    },
    {
      "cell_type": "code",
      "execution_count": 22,
      "metadata": {
        "id": "uLjbZSuinR4T"
      },
      "outputs": [],
      "source": [
        "import markdown\n",
        "from IPython.core.display import display, HTML\n",
        "\n",
        "def mostrar_markdown(texto):\n",
        "    \"\"\"Convierte el texto en formato Markdown y lo muestra en un entorno Jupyter Notebook.\"\"\"\n",
        "    html = markdown.markdown(texto)\n",
        "    display(HTML(html))"
      ]
    },
    {
      "cell_type": "code",
      "execution_count": 23,
      "metadata": {
        "colab": {
          "base_uri": "https://localhost:8080/",
          "height": 447
        },
        "id": "2oHLnbX4oAZF",
        "outputId": "540d20de-99f0-4c0a-89f2-0d619258cd39"
      },
      "outputs": [
        {
          "data": {
            "text/html": [
              "<p><strong>Análisis de Resultados Médicos:</strong></p>\n",
              "<p>Los resultados de la hemato­logía presentan algunos valores que se encuentran fuera de los rangos de referencia:</p>\n",
              "<ol>\n",
              "<li><strong>Hematocrito (50.9%)</strong>: Este valor está ligeramente por encima del rango normal (36.0% - 49.2%).</li>\n",
              "</ol>\n",
              "<p><strong>Recomendación</strong>: Es recomendable mantener una adecuada hidratación y evitar el consumo excesivo de alimentos salados.</p>\n",
              "<ol>\n",
              "<li><strong>Linfocitos (55%)</strong>: Este valor está por encima del rango normal (21.0% - 50.0%).</li>\n",
              "</ol>\n",
              "<p><strong>Recomendación</strong>: Podría ser útil consultar a un médico para evaluar posibles infecciones o condiciones subyacentes.</p>\n",
              "<p>Todos los demás valores están dentro de los límites normales.</p>\n",
              "<hr />\n",
              "<p><strong>Shipibo-Konibo:</strong></p>\n",
              "<p><strong>Waku Noa Ikarin:</strong></p>\n",
              "<p>Hematologiake ašodi noka soba, peino ka:</p>\n",
              "<ol>\n",
              "<li><strong>Hematocrito (50.9%)</strong>: Ino ya kene kene ri ni tei (36.0% - 49.2%).</li>\n",
              "</ol>\n",
              "<p><strong>Nokira</strong>: Hiki juwa mu fuka, meja bora i śoroti jakin.</p>\n",
              "<ol>\n",
              "<li><strong>Linfocitos (55%)</strong>: Ino ya kene kene ri ni tei (21.0% - 50.0%).</li>\n",
              "</ol>\n",
              "<p><strong>Nokira</strong>: Ika uini sujti mu yuki zueniko oja asiri yo diti keicha.</p>\n",
              "<p>Arawa no kene no ja wi ju jake.</p>"
            ],
            "text/plain": [
              "<IPython.core.display.HTML object>"
            ]
          },
          "metadata": {},
          "output_type": "display_data"
        }
      ],
      "source": [
        "mostrar_markdown(response.choices[0].message.content)"
      ]
    },
    {
      "cell_type": "code",
      "execution_count": null,
      "metadata": {
        "id": "fKQynsHfoX3h"
      },
      "outputs": [],
      "source": []
    }
  ],
  "metadata": {
    "accelerator": "GPU",
    "colab": {
      "gpuType": "T4",
      "provenance": []
    },
    "kernelspec": {
      "display_name": "Python 3",
      "name": "python3"
    },
    "language_info": {
      "name": "python"
    }
  },
  "nbformat": 4,
  "nbformat_minor": 0
}
